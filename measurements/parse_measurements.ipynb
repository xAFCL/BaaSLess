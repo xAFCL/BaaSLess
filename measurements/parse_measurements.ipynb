{
 "cells": [
  {
   "cell_type": "code",
   "execution_count": 1,
   "id": "715878c1-3e2c-4282-adc4-48c7ce0deacc",
   "metadata": {
    "tags": []
   },
   "outputs": [],
   "source": [
    "import pandas as pd"
   ]
  },
  {
   "cell_type": "code",
   "execution_count": 2,
   "id": "e7c37913-aa09-4dad-b10e-6cf407dd6cbc",
   "metadata": {
    "tags": []
   },
   "outputs": [],
   "source": [
    "def parse_rtts(file_path, function_name):\n",
    "    # read the file\n",
    "    file = open(file_path, 'r')\n",
    "    lines = file.readlines()\n",
    "    # extract RTT\n",
    "    rtts=[]\n",
    "    for line in lines:\n",
    "        pattern = re.compile(f\"Function took: (.*) ms. Result: {function_name}\")\n",
    "        for match in pattern.finditer(line):\n",
    "            rtts.append(int(match.group(1)))\n",
    "    return rtts"
   ]
  },
  {
   "cell_type": "code",
   "execution_count": null,
   "id": "c15e5367-5e87-404a-b481-412af8118bb1",
   "metadata": {
    "tags": []
   },
   "outputs": [],
   "source": [
    "import re\n",
    "function=\"merge\"\n",
    "file=\"speech-translator/fado-google.txt\"\n",
    "rtts=parse_rtts(file, function)\n",
    "mean=sum(rtts)/len(rtts)\n",
    "print(rtts)\n",
    "print(mean)"
   ]
  },
  {
   "cell_type": "code",
   "execution_count": null,
   "id": "e55fa61d-30a3-4cf5-b9c3-e68cf1091520",
   "metadata": {},
   "outputs": [],
   "source": []
  }
 ],
 "metadata": {
  "kernelspec": {
   "display_name": "Python 3 (ipykernel)",
   "language": "python",
   "name": "python3"
  },
  "language_info": {
   "codemirror_mode": {
    "name": "ipython",
    "version": 3
   },
   "file_extension": ".py",
   "mimetype": "text/x-python",
   "name": "python",
   "nbconvert_exporter": "python",
   "pygments_lexer": "ipython3",
   "version": "3.11.3"
  }
 },
 "nbformat": 4,
 "nbformat_minor": 5
}

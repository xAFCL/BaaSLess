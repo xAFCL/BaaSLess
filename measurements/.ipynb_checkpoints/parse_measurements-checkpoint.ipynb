{
 "cells": [
  {
   "cell_type": "code",
   "execution_count": 2,
   "id": "715878c1-3e2c-4282-adc4-48c7ce0deacc",
   "metadata": {
    "tags": []
   },
   "outputs": [],
   "source": [
    "import pandas as pd"
   ]
  },
  {
   "cell_type": "code",
   "execution_count": 3,
   "id": "e7c37913-aa09-4dad-b10e-6cf407dd6cbc",
   "metadata": {
    "tags": []
   },
   "outputs": [],
   "source": [
    "def parse_rtts(file_path, function_name):\n",
    "    # read the file\n",
    "    file = open(file_path, 'r')\n",
    "    lines = file.readlines()\n",
    "    # extract RTT\n",
    "    rtts=[]\n",
    "    for line in lines:\n",
    "        pattern = re.compile(f\"Function took: (.*) ms. Result: {function_name}\")\n",
    "        for match in pattern.finditer(line):\n",
    "            rtts.append(int(match.group(1)))\n",
    "    return rtts"
   ]
  },
  {
   "cell_type": "code",
   "execution_count": 17,
   "id": "c15e5367-5e87-404a-b481-412af8118bb1",
   "metadata": {
    "tags": []
   },
   "outputs": [
    {
     "name": "stdout",
     "output_type": "stream",
     "text": [
      "[1382, 1378, 1287, 1518, 1282, 1225, 2088, 1419, 1410, 1220, 1334, 1939, 1213, 1500, 1331, 1289, 2173, 1401, 1165, 2057, 1987, 2291, 1322, 2047, 2351, 1457, 1469, 1310, 1308, 1319, 1406, 1327, 2299, 2229, 1634, 1657, 19682, 22221, 2490, 3163, 1743, 3274, 2371, 2372, 2108, 2564, 3380, 1581, 2559, 2047, 1273, 1708, 1732, 1452, 2109, 1284, 1404, 2572, 1586, 1954, 2049, 2337, 1891, 1685, 1220, 1277, 1196, 1572, 1901, 1292, 1808, 1613, 2057, 1768, 2103, 1989, 1381, 1498, 1802, 1354, 1157, 1137, 2385, 1638, 1239, 1532, 1520, 2333, 1751, 2305, 1292, 1661, 1272, 1274, 1247, 1280, 1914, 2558, 1299, 1345, 20138, 20646, 20784, 20302, 3229, 2548, 24768, 2522, 2939, 2453, 4125, 2100, 1943, 2168, 1850, 2735, 2112, 1611, 2102, 2521, 1787, 1966, 2132, 2171, 1699]\n",
      "2919.488\n"
     ]
    }
   ],
   "source": [
    "import re\n",
    "function=\"synthesize\"\n",
    "file=\"read-for-me/faast-amazon.txt\"\n",
    "rtts=parse_rtts(file, function)\n",
    "mean=sum(rtts)/len(rtts)\n",
    "print(rtts)\n",
    "print(mean)"
   ]
  },
  {
   "cell_type": "code",
   "execution_count": null,
   "id": "e55fa61d-30a3-4cf5-b9c3-e68cf1091520",
   "metadata": {},
   "outputs": [],
   "source": []
  }
 ],
 "metadata": {
  "kernelspec": {
   "display_name": "Python 3 (ipykernel)",
   "language": "python",
   "name": "python3"
  },
  "language_info": {
   "codemirror_mode": {
    "name": "ipython",
    "version": 3
   },
   "file_extension": ".py",
   "mimetype": "text/x-python",
   "name": "python",
   "nbconvert_exporter": "python",
   "pygments_lexer": "ipython3",
   "version": "3.11.3"
  }
 },
 "nbformat": 4,
 "nbformat_minor": 5
}
